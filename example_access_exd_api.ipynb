{
    "cells": [
        {
            "cell_type": "markdown",
            "metadata": {},
            "source": [
                "# Access an ASAM ODS EXD-API Plugin"
            ]
        },
        {
            "cell_type": "markdown",
            "metadata": {},
            "source": [
                "## Prepare Python Environment to Access GRPC Service"
            ]
        },
        {
            "cell_type": "code",
            "execution_count": 1,
            "id": "d55852a6-abe0-4af2-91a9-e311e33deadb",
            "metadata": {},
            "outputs": [
                {
                    "name": "stdout",
                    "output_type": "stream",
                    "text": [
                        "Requirement already satisfied: pip in c:\\users\\andre\\github\\asam_ods_exd_api_pandascsv\\.venv\\lib\\site-packages (25.1.1)\n",
                        "Collecting odsbox[exd-data]\n",
                        "  Downloading odsbox-1.0.4-py3-none-any.whl.metadata (4.6 kB)\n",
                        "Requirement already satisfied: protobuf<7.0.0,>=5.27.0 in c:\\users\\andre\\github\\asam_ods_exd_api_pandascsv\\.venv\\lib\\site-packages (from odsbox[exd-data]) (5.29.4)\n",
                        "Collecting requests<3.0.0,>=2.30.0 (from odsbox[exd-data])\n",
                        "  Downloading requests-2.32.3-py3-none-any.whl.metadata (4.6 kB)\n",
                        "Requirement already satisfied: pandas<3.0.0,>=2.2.0 in c:\\users\\andre\\github\\asam_ods_exd_api_pandascsv\\.venv\\lib\\site-packages (from odsbox[exd-data]) (2.2.3)\n",
                        "Requirement already satisfied: grpcio<2.0.0,>=1.59.3 in c:\\users\\andre\\github\\asam_ods_exd_api_pandascsv\\.venv\\lib\\site-packages (from odsbox[exd-data]) (1.71.0)\n",
                        "Requirement already satisfied: numpy>=1.26.0 in c:\\users\\andre\\github\\asam_ods_exd_api_pandascsv\\.venv\\lib\\site-packages (from pandas<3.0.0,>=2.2.0->odsbox[exd-data]) (2.2.5)\n",
                        "Requirement already satisfied: python-dateutil>=2.8.2 in c:\\users\\andre\\github\\asam_ods_exd_api_pandascsv\\.venv\\lib\\site-packages (from pandas<3.0.0,>=2.2.0->odsbox[exd-data]) (2.9.0.post0)\n",
                        "Requirement already satisfied: pytz>=2020.1 in c:\\users\\andre\\github\\asam_ods_exd_api_pandascsv\\.venv\\lib\\site-packages (from pandas<3.0.0,>=2.2.0->odsbox[exd-data]) (2025.2)\n",
                        "Requirement already satisfied: tzdata>=2022.7 in c:\\users\\andre\\github\\asam_ods_exd_api_pandascsv\\.venv\\lib\\site-packages (from pandas<3.0.0,>=2.2.0->odsbox[exd-data]) (2025.2)\n",
                        "Collecting charset-normalizer<4,>=2 (from requests<3.0.0,>=2.30.0->odsbox[exd-data])\n",
                        "  Downloading charset_normalizer-3.4.2-cp312-cp312-win_amd64.whl.metadata (36 kB)\n",
                        "Collecting idna<4,>=2.5 (from requests<3.0.0,>=2.30.0->odsbox[exd-data])\n",
                        "  Downloading idna-3.10-py3-none-any.whl.metadata (10 kB)\n",
                        "Collecting urllib3<3,>=1.21.1 (from requests<3.0.0,>=2.30.0->odsbox[exd-data])\n",
                        "  Downloading urllib3-2.4.0-py3-none-any.whl.metadata (6.5 kB)\n",
                        "Collecting certifi>=2017.4.17 (from requests<3.0.0,>=2.30.0->odsbox[exd-data])\n",
                        "  Downloading certifi-2025.4.26-py3-none-any.whl.metadata (2.5 kB)\n",
                        "Requirement already satisfied: six>=1.5 in c:\\users\\andre\\github\\asam_ods_exd_api_pandascsv\\.venv\\lib\\site-packages (from python-dateutil>=2.8.2->pandas<3.0.0,>=2.2.0->odsbox[exd-data]) (1.17.0)\n",
                        "Downloading odsbox-1.0.4-py3-none-any.whl (48 kB)\n",
                        "Downloading requests-2.32.3-py3-none-any.whl (64 kB)\n",
                        "Downloading charset_normalizer-3.4.2-cp312-cp312-win_amd64.whl (105 kB)\n",
                        "Downloading idna-3.10-py3-none-any.whl (70 kB)\n",
                        "Downloading urllib3-2.4.0-py3-none-any.whl (128 kB)\n",
                        "Downloading certifi-2025.4.26-py3-none-any.whl (159 kB)\n",
                        "Installing collected packages: urllib3, idna, charset-normalizer, certifi, requests, odsbox\n",
                        "\n",
                        "   ---------------------------------------- 0/6 [urllib3]\n",
                        "   ---------------------------------------- 0/6 [urllib3]\n",
                        "   ---------------------------------------- 0/6 [urllib3]\n",
                        "   ---------------------------------------- 0/6 [urllib3]\n",
                        "   ---------------------------------------- 0/6 [urllib3]\n",
                        "   ---------------------------------------- 0/6 [urllib3]\n",
                        "   ------ --------------------------------- 1/6 [idna]\n",
                        "   ------ --------------------------------- 1/6 [idna]\n",
                        "   ------ --------------------------------- 1/6 [idna]\n",
                        "   ------------- -------------------------- 2/6 [charset-normalizer]\n",
                        "   ------------- -------------------------- 2/6 [charset-normalizer]\n",
                        "   -------------------- ------------------- 3/6 [certifi]\n",
                        "   -------------------------- ------------- 4/6 [requests]\n",
                        "   -------------------------- ------------- 4/6 [requests]\n",
                        "   --------------------------------- ------ 5/6 [odsbox]\n",
                        "   --------------------------------- ------ 5/6 [odsbox]\n",
                        "   ---------------------------------------- 6/6 [odsbox]\n",
                        "\n",
                        "Successfully installed certifi-2025.4.26 charset-normalizer-3.4.2 idna-3.10 odsbox-1.0.4 requests-2.32.3 urllib3-2.4.0\n"
                    ]
                }
            ],
            "source": [
                "try:\n",
                "    from odsbox.proto import ods_external_data_pb2 as exd\n",
                "except:\n",
                "    # first time you need to install dependencies\n",
                "    !python -m pip install --upgrade pip\n",
                "    !python -m pip install -U odsbox[exd-data]\n"
            ]
        },
        {
            "cell_type": "code",
            "execution_count": 2,
            "id": "c1b80c2f-5830-425b-909e-fd2cf5b895d0",
            "metadata": {},
            "outputs": [],
            "source": [
                "import os\n",
                "import pathlib\n",
                "\n",
                "import grpc\n",
                "from google.protobuf.json_format import MessageToJson\n",
                "\n",
                "from odsbox.proto import ods_pb2\n",
                "from odsbox.proto import ods_external_data_pb2 as exd\n",
                "from odsbox.proto import ods_external_data_pb2_grpc as exd_grpc"
            ]
        },
        {
            "cell_type": "markdown",
            "metadata": {},
            "source": [
                "## EXD-API\n",
                "\n",
                "The EXD-API plugin is running as a RPC service at a given URL.\n",
                "Running `exd_api_server.py`´will run the plugin at the given URL."
            ]
        },
        {
            "cell_type": "code",
            "execution_count": 3,
            "metadata": {},
            "outputs": [],
            "source": [
                "exd_api_plugin_url = \"localhost:50051\""
            ]
        },
        {
            "cell_type": "markdown",
            "metadata": {},
            "source": [
                "## Import Phase\n",
                "\n",
                "We will open a file using the EXD-API and extract the internal structure of the file to import it into the ASAM ODS server."
            ]
        },
        {
            "cell_type": "code",
            "execution_count": 4,
            "id": "3c6367c9-5361-4229-96e1-57f7ff9de98e",
            "metadata": {},
            "outputs": [],
            "source": [
                "data_file_path = os.path.abspath('data/example.csv')\n",
                "if not os.path.exists(data_file_path):\n",
                "    raise Exception('Data file is missing')"
            ]
        },
        {
            "cell_type": "code",
            "execution_count": 5,
            "id": "c1d79d60-bce7-4b9c-95e4-9be54734bd69",
            "metadata": {},
            "outputs": [
                {
                    "name": "stdout",
                    "output_type": "stream",
                    "text": [
                        "file:///c:/Users/andre/github/asam_ods_exd_api_pandascsv/data/example.csv\n"
                    ]
                }
            ],
            "source": [
                "import_file_url = pathlib.Path(data_file_path).as_uri()\n",
                "import_file_parameters=\"\"\n",
                "print(import_file_url)\n",
                "\n",
                "# Will be filled from Structure\n",
                "access_file_url = None\n",
                "access_file_parameters = None"
            ]
        },
        {
            "cell_type": "markdown",
            "metadata": {},
            "source": [
                "### Extract Infos from Structure\n",
                "\n",
                "The structure contains infos about groups and channels to create corresponding measurements, submatrices and measurement_quantities"
            ]
        },
        {
            "cell_type": "code",
            "execution_count": 6,
            "metadata": {},
            "outputs": [
                {
                    "name": "stdout",
                    "output_type": "stream",
                    "text": [
                        "{\n",
                        "  \"identifier\": {\n",
                        "    \"url\": \"file:///c:/Users/andre/github/asam_ods_exd_api_pandascsv/data/example.csv\"\n",
                        "  },\n",
                        "  \"name\": \"example.csv\",\n",
                        "  \"groups\": [\n",
                        "    {\n",
                        "      \"name\": \"data\",\n",
                        "      \"totalNumberOfChannels\": \"3\",\n",
                        "      \"numberOfRows\": \"3\",\n",
                        "      \"channels\": [\n",
                        "        {\n",
                        "          \"name\": \"a\",\n",
                        "          \"dataType\": \"DT_LONGLONG\"\n",
                        "        },\n",
                        "        {\n",
                        "          \"id\": \"1\",\n",
                        "          \"name\": \"b\",\n",
                        "          \"dataType\": \"DT_DOUBLE\"\n",
                        "        },\n",
                        "        {\n",
                        "          \"id\": \"2\",\n",
                        "          \"name\": \"c\",\n",
                        "          \"dataType\": \"DT_DOUBLE\"\n",
                        "        }\n",
                        "      ]\n",
                        "    }\n",
                        "  ]\n",
                        "}\n"
                    ]
                }
            ],
            "source": [
                "with grpc.insecure_channel(exd_api_plugin_url) as channel:\n",
                "    stub = exd_grpc.ExternalDataReaderStub(channel)\n",
                "\n",
                "    # import file into ASAM ODS Server physical storage\n",
                "    import_identifier = exd.Identifier(\n",
                "        url=import_file_url,\n",
                "        parameters=import_file_parameters)\n",
                "\n",
                "    import_handle = stub.Open(import_identifier)\n",
                "    try:\n",
                "        structure = stub.GetStructure(\n",
                "            exd.StructureRequest(\n",
                "                handle=import_handle))\n",
                "        print(MessageToJson(structure))\n",
                "\n",
                "        access_file_url = structure.identifier.url\n",
                "        access_file_parameters = structure.identifier.parameters\n",
                "\n",
                "        for group in structure.groups:\n",
                "            group_id = group.id\n",
                "            for channel in group.channels:\n",
                "                channel_id = channel.id\n",
                "    finally:\n",
                "        stub.Close(import_handle)"
            ]
        },
        {
            "cell_type": "markdown",
            "metadata": {},
            "source": [
                "## Access Bulk Data\n",
                "\n",
                "With the stored information the ASAM ODS server can access the bulk data from the EXD-API plugin"
            ]
        },
        {
            "cell_type": "code",
            "execution_count": 7,
            "metadata": {},
            "outputs": [
                {
                    "name": "stdout",
                    "output_type": "stream",
                    "text": [
                        "{\n",
                        "  \"channels\": [\n",
                        "    {\n",
                        "      \"values\": {\n",
                        "        \"dataType\": \"DT_LONGLONG\",\n",
                        "        \"longlongArray\": {\n",
                        "          \"values\": [\n",
                        "            \"1\",\n",
                        "            \"2\",\n",
                        "            \"3\"\n",
                        "          ]\n",
                        "        }\n",
                        "      }\n",
                        "    },\n",
                        "    {\n",
                        "      \"id\": \"1\",\n",
                        "      \"values\": {\n",
                        "        \"dataType\": \"DT_DOUBLE\",\n",
                        "        \"doubleArray\": {\n",
                        "          \"values\": [\n",
                        "            2.1,\n",
                        "            2.2,\n",
                        "            2.3\n",
                        "          ]\n",
                        "        }\n",
                        "      }\n",
                        "    }\n",
                        "  ]\n",
                        "}\n"
                    ]
                }
            ],
            "source": [
                "with grpc.insecure_channel(exd_api_plugin_url) as channel:\n",
                "    stub = exd_grpc.ExternalDataReaderStub(channel)\n",
                "\n",
                "    # info from physical storage\n",
                "    access_group_id = 0\n",
                "    access_channel_ids = [0, 1]\n",
                "    access_identifier = exd.Identifier(\n",
                "        url=access_file_url,\n",
                "        parameters=access_file_parameters)\n",
                "\n",
                "    # open bulk access\n",
                "    access_handle = stub.Open(access_identifier)\n",
                "    try:\n",
                "        request = exd.ValuesRequest(\n",
                "            handle=access_handle,\n",
                "            group_id=access_group_id,\n",
                "            channel_ids=access_channel_ids)\n",
                "\n",
                "        # read first chunk\n",
                "        request.start = 0\n",
                "        request.limit = 3\n",
                "        values = stub.GetValues(request)\n",
                "        print(MessageToJson(values))\n",
                "\n",
                "    finally:\n",
                "        stub.Close(access_handle)"
            ]
        }
    ],
    "metadata": {
        "kernelspec": {
            "display_name": ".venv",
            "language": "python",
            "name": "python3"
        },
        "language_info": {
            "codemirror_mode": {
                "name": "ipython",
                "version": 3
            },
            "file_extension": ".py",
            "mimetype": "text/x-python",
            "name": "python",
            "nbconvert_exporter": "python",
            "pygments_lexer": "ipython3",
            "version": "3.12.8"
        }
    },
    "nbformat": 4,
    "nbformat_minor": 5
}
